{
  "nbformat": 4,
  "nbformat_minor": 0,
  "metadata": {
    "colab": {
      "name": "Leaf_classification.ipynb",
      "version": "0.3.2",
      "provenance": [],
      "include_colab_link": true
    },
    "kernelspec": {
      "name": "python2",
      "display_name": "Python 2"
    },
    "accelerator": "GPU"
  },
  "cells": [
    {
      "cell_type": "markdown",
      "metadata": {
        "id": "view-in-github",
        "colab_type": "text"
      },
      "source": [
        "<a href=\"https://colab.research.google.com/github/akadidas/Deep-Learning/blob/master/Leaf_classification.ipynb\" target=\"_parent\"><img src=\"https://colab.research.google.com/assets/colab-badge.svg\" alt=\"Open In Colab\"/></a>"
      ]
    },
    {
      "cell_type": "code",
      "metadata": {
        "id": "I7UOH-Qpz1zy",
        "colab_type": "code",
        "colab": {
          "base_uri": "https://localhost:8080/",
          "height": 54
        },
        "outputId": "f40f17de-20b1-485d-f255-8b11e8c4aa2f"
      },
      "source": [
        "from google.colab import drive\n",
        "drive.mount('/content/gdrive')"
      ],
      "execution_count": 49,
      "outputs": [
        {
          "output_type": "stream",
          "text": [
            "Drive already mounted at /content/gdrive; to attempt to forcibly remount, call drive.mount(\"/content/gdrive\", force_remount=True).\n"
          ],
          "name": "stdout"
        }
      ]
    },
    {
      "cell_type": "code",
      "metadata": {
        "id": "V22Qo1BSyg_1",
        "colab_type": "code",
        "colab": {}
      },
      "source": [
        "import numpy as np\n",
        "import pandas as pd\n",
        "import seaborn as sns\n",
        "import matplotlib.pyplot as plt\n",
        "\n",
        "## Importing sklearn libraries\n",
        "\n",
        "from sklearn.preprocessing import StandardScaler\n",
        "\n",
        "from sklearn.preprocessing import LabelEncoder\n",
        "\n",
        "## Keras Libraries for Neural Networks\n",
        "\n",
        "from keras.models import Sequential\n",
        "from keras.layers import Dense,Dropout,Activation\n",
        "from keras.utils.np_utils import to_categorical\n",
        "from keras.callbacks import EarlyStopping"
      ],
      "execution_count": 0,
      "outputs": []
    },
    {
      "cell_type": "code",
      "metadata": {
        "id": "eAOfGQlmyfZk",
        "colab_type": "code",
        "colab": {
          "base_uri": "https://localhost:8080/",
          "height": 67
        },
        "outputId": "ca411808-d27d-4423-8824-cf8e8196001b"
      },
      "source": [
        "\n",
        "\n",
        "## Read data from the CSV file\n",
        "\n",
        "\n",
        "data=pd.read_csv('/content/gdrive/My Drive//Leaf_classification/train.csv')\n",
        "\n",
        "ID = data.pop('id')\n",
        "\n",
        "y = data.pop('species')\n",
        "#Label Encoder to hot encode label from string\n",
        "y = LabelEncoder().fit(y).transform(y)\n",
        "print(y.shape)\n",
        "\n",
        "X = StandardScaler().fit(data).transform(data)\n",
        "print(X.shape)\n",
        "\n",
        "y_cat = to_categorical(y)\n",
        "print(y_cat.shape)\n",
        "\n",
        "\n"
      ],
      "execution_count": 51,
      "outputs": [
        {
          "output_type": "stream",
          "text": [
            "(990,)\n",
            "(990, 192)\n",
            "(990, 99)\n"
          ],
          "name": "stdout"
        }
      ]
    },
    {
      "cell_type": "code",
      "metadata": {
        "id": "xXfmaZo4zG7U",
        "colab_type": "code",
        "colab": {
          "base_uri": "https://localhost:8080/",
          "height": 70
        },
        "outputId": "57e9a50e-f917-4115-cf8c-7b1e5cbed03e"
      },
      "source": [
        "model = Sequential()\n",
        "model.add(Dense(1500,input_dim=192,  init='uniform', activation='relu'))\n",
        "model.add(Dropout(0.1))\n",
        "model.add(Dense(1500, activation='sigmoid'))\n",
        "model.add(Dropout(0.1))\n",
        "model.add(Dense(99, activation='softmax'))\n",
        "model.compile(loss='categorical_crossentropy',optimizer='rmsprop', metrics = [\"accuracy\"])\n"
      ],
      "execution_count": 52,
      "outputs": [
        {
          "output_type": "stream",
          "text": [
            "/usr/local/lib/python2.7/dist-packages/ipykernel_launcher.py:2: UserWarning: Update your `Dense` call to the Keras 2 API: `Dense(1500, activation=\"relu\", kernel_initializer=\"uniform\", input_dim=192)`\n",
            "  \n"
          ],
          "name": "stderr"
        }
      ]
    },
    {
      "cell_type": "code",
      "metadata": {
        "id": "uZOU2dPG0WsF",
        "colab_type": "code",
        "colab": {}
      },
      "source": [
        ""
      ],
      "execution_count": 0,
      "outputs": []
    },
    {
      "cell_type": "code",
      "metadata": {
        "id": "fG8X4bz6zZqa",
        "colab_type": "code",
        "colab": {
          "base_uri": "https://localhost:8080/",
          "height": 171
        },
        "outputId": "a39f568a-5af1-4d20-e3c3-b60e63a6c786"
      },
      "source": [
        "\n",
        "history = model.fit(X,y_cat,batch_size=192,\n",
        "                    nb_epoch=800 ,verbose=0, validation_split=0.1)\n",
        "                    \n",
        "\n",
        "\n",
        "print('val_acc: ',max(history.history['val_acc']))\n",
        "print('val_loss: ',min(history.history['val_loss']))\n",
        "print('train_acc: ',max(history.history['acc']))\n",
        "print('train_loss: ',min(history.history['loss']))\n",
        "print()\n",
        "print(\"train/val loss ratio: \", min(history.history['loss'])/min(history.history['val_loss']))\n"
      ],
      "execution_count": 53,
      "outputs": [
        {
          "output_type": "stream",
          "text": [
            "/usr/local/lib/python2.7/dist-packages/ipykernel_launcher.py:3: UserWarning: The `nb_epoch` argument in `fit` has been renamed `epochs`.\n",
            "  This is separate from the ipykernel package so we can avoid doing imports until\n"
          ],
          "name": "stderr"
        },
        {
          "output_type": "stream",
          "text": [
            "('val_acc: ', 1.0)\n",
            "('val_loss: ', 0.0017702487530186772)\n",
            "('train_acc: ', 1.0)\n",
            "('train_loss: ', 1.2215274498752055e-07)\n",
            "()\n",
            "('train/val loss ratio: ', 6.900315268078699e-05)\n"
          ],
          "name": "stdout"
        }
      ]
    },
    {
      "cell_type": "code",
      "metadata": {
        "id": "nAr1f6Ewzf2f",
        "colab_type": "code",
        "colab": {}
      },
      "source": [
        ""
      ],
      "execution_count": 0,
      "outputs": []
    }
  ]
}